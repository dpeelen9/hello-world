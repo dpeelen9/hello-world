{
 "cells": [
  {
   "cell_type": "code",
   "execution_count": 6,
   "id": "4dcd020b-5adf-429c-b37d-a93dabfcff07",
   "metadata": {},
   "outputs": [
    {
     "name": "stdin",
     "output_type": "stream",
     "text": [
      "Enter your name:  ariel\n",
      "Enter a sentence:  kds sdk sdkl\n"
     ]
    },
    {
     "name": "stdout",
     "output_type": "stream",
     "text": [
      "kdsariel\n",
      "sdkariel\n",
      "sdklariel\n"
     ]
    }
   ],
   "source": [
    "name = input(\"Enter your name: \")\n",
    "sentence = input(\"Enter a sentence: \").split()\n",
    "for word in sentence:\n",
    "    print(word + name)"
   ]
  }
 ],
 "metadata": {
  "kernelspec": {
   "display_name": "Python 3 (ipykernel)",
   "language": "python",
   "name": "python3"
  },
  "language_info": {
   "codemirror_mode": {
    "name": "ipython",
    "version": 3
   },
   "file_extension": ".py",
   "mimetype": "text/x-python",
   "name": "python",
   "nbconvert_exporter": "python",
   "pygments_lexer": "ipython3",
   "version": "3.11.7"
  }
 },
 "nbformat": 4,
 "nbformat_minor": 5
}
