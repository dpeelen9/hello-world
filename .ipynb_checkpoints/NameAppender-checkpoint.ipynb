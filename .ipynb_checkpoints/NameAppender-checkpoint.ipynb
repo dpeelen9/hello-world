{
 "cells": [
  {
   "cell_type": "code",
   "execution_count": null,
   "id": "444fcd10-3198-4fb4-8118-335348c9b65c",
   "metadata": {},
   "outputs": [],
   "source": [
    "name = input(\"Enter your name: \")\n",
    "sentence = input(\"Enter a sentence: \").split()\n",
    "for word in sentence:\n",
    "    print(word + name)"
   ]
  }
 ],
 "metadata": {
  "kernelspec": {
   "display_name": "Python 3 (ipykernel)",
   "language": "python",
   "name": "python3"
  },
  "language_info": {
   "codemirror_mode": {
    "name": "ipython",
    "version": 3
   },
   "file_extension": ".py",
   "mimetype": "text/x-python",
   "name": "python",
   "nbconvert_exporter": "python",
   "pygments_lexer": "ipython3",
   "version": "3.11.7"
  }
 },
 "nbformat": 4,
 "nbformat_minor": 5
}
